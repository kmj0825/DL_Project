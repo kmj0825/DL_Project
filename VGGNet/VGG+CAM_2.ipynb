{
  "cells": [
    {
      "cell_type": "code",
      "execution_count": 1,
      "metadata": {
        "colab": {
          "base_uri": "https://localhost:8080/"
        },
        "id": "SUtw6OJ4DdFi",
        "outputId": "04e9d0f4-71d9-4383-c558-67c74ffe8259"
      },
      "outputs": [
        {
          "name": "stdout",
          "output_type": "stream",
          "text": [
            "/content\n",
            "Drive already mounted at /content/drive; to attempt to forcibly remount, call drive.mount(\"/content/drive\", force_remount=True).\n"
          ]
        }
      ],
      "source": [
        "!pwd\n",
        "from google.colab import drive\n",
        "drive.mount('/content/drive')"
      ]
    },
    {
      "cell_type": "code",
      "execution_count": 2,
      "metadata": {
        "colab": {
          "base_uri": "https://localhost:8080/",
          "height": 640
        },
        "id": "zYJS41s2BGvY",
        "outputId": "196e8663-286f-41fd-c6b4-b28aedf6404a"
      },
      "outputs": [
        {
          "ename": "KeyboardInterrupt",
          "evalue": "ignored",
          "output_type": "error",
          "traceback": [
            "\u001b[0;31m---------------------------------------------------------------------------\u001b[0m",
            "\u001b[0;31mKeyboardInterrupt\u001b[0m                         Traceback (most recent call last)",
            "\u001b[0;32m<ipython-input-2-d623adcc6eeb>\u001b[0m in \u001b[0;36m<cell line: 12>\u001b[0;34m()\u001b[0m\n\u001b[1;32m     10\u001b[0m \u001b[0;34m\u001b[0m\u001b[0m\n\u001b[1;32m     11\u001b[0m \u001b[0;31m# copy zip file\u001b[0m\u001b[0;34m\u001b[0m\u001b[0;34m\u001b[0m\u001b[0m\n\u001b[0;32m---> 12\u001b[0;31m \u001b[0mshutil\u001b[0m\u001b[0;34m.\u001b[0m\u001b[0mcopy\u001b[0m\u001b[0;34m(\u001b[0m\u001b[0mdataset\u001b[0m\u001b[0;34m,\u001b[0m \u001b[0mdata_file\u001b[0m\u001b[0;34m)\u001b[0m\u001b[0;34m\u001b[0m\u001b[0;34m\u001b[0m\u001b[0m\n\u001b[0m\u001b[1;32m     13\u001b[0m \u001b[0;34m\u001b[0m\u001b[0m\n\u001b[1;32m     14\u001b[0m \u001b[0;32mwith\u001b[0m \u001b[0mzipfile\u001b[0m\u001b[0;34m.\u001b[0m\u001b[0mZipFile\u001b[0m\u001b[0;34m(\u001b[0m\u001b[0mdata_file\u001b[0m\u001b[0;34m,\u001b[0m \u001b[0;34m'r'\u001b[0m\u001b[0;34m)\u001b[0m \u001b[0;32mas\u001b[0m \u001b[0mfile\u001b[0m\u001b[0;34m:\u001b[0m\u001b[0;34m\u001b[0m\u001b[0;34m\u001b[0m\u001b[0m\n",
            "\u001b[0;32m/usr/lib/python3.10/shutil.py\u001b[0m in \u001b[0;36mcopy\u001b[0;34m(src, dst, follow_symlinks)\u001b[0m\n\u001b[1;32m    415\u001b[0m     \u001b[0;32mif\u001b[0m \u001b[0mos\u001b[0m\u001b[0;34m.\u001b[0m\u001b[0mpath\u001b[0m\u001b[0;34m.\u001b[0m\u001b[0misdir\u001b[0m\u001b[0;34m(\u001b[0m\u001b[0mdst\u001b[0m\u001b[0;34m)\u001b[0m\u001b[0;34m:\u001b[0m\u001b[0;34m\u001b[0m\u001b[0;34m\u001b[0m\u001b[0m\n\u001b[1;32m    416\u001b[0m         \u001b[0mdst\u001b[0m \u001b[0;34m=\u001b[0m \u001b[0mos\u001b[0m\u001b[0;34m.\u001b[0m\u001b[0mpath\u001b[0m\u001b[0;34m.\u001b[0m\u001b[0mjoin\u001b[0m\u001b[0;34m(\u001b[0m\u001b[0mdst\u001b[0m\u001b[0;34m,\u001b[0m \u001b[0mos\u001b[0m\u001b[0;34m.\u001b[0m\u001b[0mpath\u001b[0m\u001b[0;34m.\u001b[0m\u001b[0mbasename\u001b[0m\u001b[0;34m(\u001b[0m\u001b[0msrc\u001b[0m\u001b[0;34m)\u001b[0m\u001b[0;34m)\u001b[0m\u001b[0;34m\u001b[0m\u001b[0;34m\u001b[0m\u001b[0m\n\u001b[0;32m--> 417\u001b[0;31m     \u001b[0mcopyfile\u001b[0m\u001b[0;34m(\u001b[0m\u001b[0msrc\u001b[0m\u001b[0;34m,\u001b[0m \u001b[0mdst\u001b[0m\u001b[0;34m,\u001b[0m \u001b[0mfollow_symlinks\u001b[0m\u001b[0;34m=\u001b[0m\u001b[0mfollow_symlinks\u001b[0m\u001b[0;34m)\u001b[0m\u001b[0;34m\u001b[0m\u001b[0;34m\u001b[0m\u001b[0m\n\u001b[0m\u001b[1;32m    418\u001b[0m     \u001b[0mcopymode\u001b[0m\u001b[0;34m(\u001b[0m\u001b[0msrc\u001b[0m\u001b[0;34m,\u001b[0m \u001b[0mdst\u001b[0m\u001b[0;34m,\u001b[0m \u001b[0mfollow_symlinks\u001b[0m\u001b[0;34m=\u001b[0m\u001b[0mfollow_symlinks\u001b[0m\u001b[0;34m)\u001b[0m\u001b[0;34m\u001b[0m\u001b[0;34m\u001b[0m\u001b[0m\n\u001b[1;32m    419\u001b[0m     \u001b[0;32mreturn\u001b[0m \u001b[0mdst\u001b[0m\u001b[0;34m\u001b[0m\u001b[0;34m\u001b[0m\u001b[0m\n",
            "\u001b[0;32m/usr/lib/python3.10/shutil.py\u001b[0m in \u001b[0;36mcopyfile\u001b[0;34m(src, dst, follow_symlinks)\u001b[0m\n\u001b[1;32m    265\u001b[0m                     \u001b[0;32melif\u001b[0m \u001b[0m_USE_CP_SENDFILE\u001b[0m\u001b[0;34m:\u001b[0m\u001b[0;34m\u001b[0m\u001b[0;34m\u001b[0m\u001b[0m\n\u001b[1;32m    266\u001b[0m                         \u001b[0;32mtry\u001b[0m\u001b[0;34m:\u001b[0m\u001b[0;34m\u001b[0m\u001b[0;34m\u001b[0m\u001b[0m\n\u001b[0;32m--> 267\u001b[0;31m                             \u001b[0m_fastcopy_sendfile\u001b[0m\u001b[0;34m(\u001b[0m\u001b[0mfsrc\u001b[0m\u001b[0;34m,\u001b[0m \u001b[0mfdst\u001b[0m\u001b[0;34m)\u001b[0m\u001b[0;34m\u001b[0m\u001b[0;34m\u001b[0m\u001b[0m\n\u001b[0m\u001b[1;32m    268\u001b[0m                             \u001b[0;32mreturn\u001b[0m \u001b[0mdst\u001b[0m\u001b[0;34m\u001b[0m\u001b[0;34m\u001b[0m\u001b[0m\n\u001b[1;32m    269\u001b[0m                         \u001b[0;32mexcept\u001b[0m \u001b[0m_GiveupOnFastCopy\u001b[0m\u001b[0;34m:\u001b[0m\u001b[0;34m\u001b[0m\u001b[0;34m\u001b[0m\u001b[0m\n",
            "\u001b[0;32m/usr/lib/python3.10/shutil.py\u001b[0m in \u001b[0;36m_fastcopy_sendfile\u001b[0;34m(fsrc, fdst)\u001b[0m\n\u001b[1;32m    140\u001b[0m     \u001b[0;32mwhile\u001b[0m \u001b[0;32mTrue\u001b[0m\u001b[0;34m:\u001b[0m\u001b[0;34m\u001b[0m\u001b[0;34m\u001b[0m\u001b[0m\n\u001b[1;32m    141\u001b[0m         \u001b[0;32mtry\u001b[0m\u001b[0;34m:\u001b[0m\u001b[0;34m\u001b[0m\u001b[0;34m\u001b[0m\u001b[0m\n\u001b[0;32m--> 142\u001b[0;31m             \u001b[0msent\u001b[0m \u001b[0;34m=\u001b[0m \u001b[0mos\u001b[0m\u001b[0;34m.\u001b[0m\u001b[0msendfile\u001b[0m\u001b[0;34m(\u001b[0m\u001b[0moutfd\u001b[0m\u001b[0;34m,\u001b[0m \u001b[0minfd\u001b[0m\u001b[0;34m,\u001b[0m \u001b[0moffset\u001b[0m\u001b[0;34m,\u001b[0m \u001b[0mblocksize\u001b[0m\u001b[0;34m)\u001b[0m\u001b[0;34m\u001b[0m\u001b[0;34m\u001b[0m\u001b[0m\n\u001b[0m\u001b[1;32m    143\u001b[0m         \u001b[0;32mexcept\u001b[0m \u001b[0mOSError\u001b[0m \u001b[0;32mas\u001b[0m \u001b[0merr\u001b[0m\u001b[0;34m:\u001b[0m\u001b[0;34m\u001b[0m\u001b[0;34m\u001b[0m\u001b[0m\n\u001b[1;32m    144\u001b[0m             \u001b[0;31m# ...in oder to have a more informative exception.\u001b[0m\u001b[0;34m\u001b[0m\u001b[0;34m\u001b[0m\u001b[0m\n",
            "\u001b[0;31mKeyboardInterrupt\u001b[0m: "
          ]
        }
      ],
      "source": [
        "# unzip\n",
        "import zipfile, os, shutil\n",
        "\n",
        "dataset = '/content/drive/MyDrive/datasets/cifake.zip'\n",
        "data_path = '/content/drive/MyDrive/cifake_local'\n",
        "data_file = os.path.join(data_path, 'cifake.zip')\n",
        "\n",
        "if not os.path.exists(data_path):\n",
        "  os.makedirs(data_path)\n",
        "\n",
        "# copy zip file\n",
        "shutil.copy(dataset, data_file)\n",
        "  \n",
        "with zipfile.ZipFile(data_file, 'r') as file: \n",
        "  file.extractall(data_path)"
      ]
    },
    {
      "cell_type": "code",
      "execution_count": 1,
      "metadata": {
        "colab": {
          "base_uri": "https://localhost:8080/"
        },
        "id": "g-66wUBcZPAS",
        "outputId": "6e791211-e800-415d-9c16-5b4885894b4f"
      },
      "outputs": [
        {
          "name": "stdout",
          "output_type": "stream",
          "text": [
            "Drive already mounted at /content/drive; to attempt to forcibly remount, call drive.mount(\"/content/drive\", force_remount=True).\n"
          ]
        }
      ],
      "source": [
        "from google.colab import drive\n",
        "drive.mount('/content/drive')"
      ]
    },
    {
      "cell_type": "code",
      "execution_count": 3,
      "metadata": {
        "id": "mBWMSzhxmOpP"
      },
      "outputs": [],
      "source": [
        "import tensorflow as tf\n",
        "import numpy as np\n",
        "import matplotlib.pyplot as plt\n",
        "import scipy as sp"
      ]
    },
    {
      "cell_type": "code",
      "execution_count": 4,
      "metadata": {
        "colab": {
          "base_uri": "https://localhost:8080/"
        },
        "id": "V3Ye3gEdEvyP",
        "outputId": "8b4e2cb8-0ba6-4c70-c704-814d18fcbd99"
      },
      "outputs": [
        {
          "name": "stdout",
          "output_type": "stream",
          "text": [
            "Loading dataset from: /content/drive/MyDrive/cifake_small/cifake_small\n"
          ]
        }
      ],
      "source": [
        "\n",
        "dataset_dir = '/content/drive/MyDrive/cifake_small/cifake_small' # For Kaggle notebooks. If you run locally, point this line to the CIFAKE directory\n",
        "print(\"Loading dataset from: \" + dataset_dir)"
      ]
    },
    {
      "cell_type": "code",
      "execution_count": 5,
      "metadata": {
        "colab": {
          "base_uri": "https://localhost:8080/"
        },
        "id": "zdJlW8QNDbSl",
        "outputId": "0da30637-c865-4f59-9580-f1a1a5644487"
      },
      "outputs": [
        {
          "name": "stdout",
          "output_type": "stream",
          "text": [
            "Found 1000 files belonging to 2 classes.\n",
            "Found 502 files belonging to 2 classes.\n",
            "Found 498 files belonging to 2 classes.\n",
            "Training Classes:\n",
            "['fake', 'real']\n",
            "Training Classes:\n",
            "['fake', 'real']\n",
            "Testing Classes:\n",
            "['fake', 'real']\n"
          ]
        }
      ],
      "source": [
        "# Import all of the data using dataset from directory\n",
        "# If there isn't enough RAM available, consider using Tensorflow Datasets \n",
        "\n",
        "import tensorflow as tf\n",
        "\n",
        "img_height = 32 # The dataset is all 32px but this is here just to make sure\n",
        "img_width = 32\n",
        "batch_size = 32\n",
        "\n",
        "# Load the training data\n",
        "train_ds = tf.keras.utils.image_dataset_from_directory(\n",
        "    dataset_dir + \"/train\",\n",
        "    seed=123,\n",
        "    image_size=(img_height, img_width),\n",
        "    batch_size=None)\n",
        "\n",
        "# Load the validation data\n",
        "val_ds = tf.keras.utils.image_dataset_from_directory(\n",
        "  dataset_dir + \"/valid\",\n",
        "  seed=123,\n",
        "  image_size=(img_height, img_width),\n",
        "    batch_size=None)\n",
        "\n",
        "# Load the validation data\n",
        "test_ds = tf.keras.utils.image_dataset_from_directory(\n",
        "  dataset_dir + \"/test\",\n",
        "  seed=123,\n",
        "  image_size=(img_height, img_width),\n",
        "    batch_size=None)\n",
        "\n",
        "# Quick sanity check to make sure it's all loaded properly\n",
        "print(\"Training Classes:\")\n",
        "class_names = train_ds.class_names\n",
        "print(class_names)\n",
        "\n",
        "\n",
        "print(\"Training Classes:\")\n",
        "class_names = val_ds.class_names\n",
        "print(class_names)\n",
        "\n",
        "\n",
        "print(\"Testing Classes:\")\n",
        "class_names = test_ds.class_names\n",
        "print(class_names)"
      ]
    },
    {
      "cell_type": "code",
      "execution_count": null,
      "metadata": {
        "id": "YDwYTbQHEnUb"
      },
      "outputs": [],
      "source": [
        "# for img_batch, label_batch in train_ds.take(1) : \n",
        "#     print(img_batch.shape)\n",
        "#     print(label_batch.numpy()) "
      ]
    },
    {
      "cell_type": "code",
      "execution_count": 6,
      "metadata": {
        "id": "wjywUW6OgCAh"
      },
      "outputs": [],
      "source": [
        "def normalize_and_resize(image, label):\n",
        "    image = tf.cast(image, tf.float32)\n",
        "    image = image / 255.\n",
        "    image = tf.image.resize(image, (32, 32))\n",
        " \n",
        "    return image, label"
      ]
    },
    {
      "cell_type": "code",
      "execution_count": 7,
      "metadata": {
        "colab": {
          "base_uri": "https://localhost:8080/"
        },
        "id": "0uG3wXTGio7k",
        "outputId": "4e5d1a03-acbd-44e5-b37b-a441c55539cd"
      },
      "outputs": [
        {
          "name": "stdout",
          "output_type": "stream",
          "text": [
            "<_PrefetchDataset element_spec=(TensorSpec(shape=(None, 32, 32, 3), dtype=tf.float32, name=None), TensorSpec(shape=(None,), dtype=tf.int32, name=None))>\n"
          ]
        }
      ],
      "source": [
        "train_batches = train_ds.map(normalize_and_resize).batch(batch_size).prefetch(tf.data.experimental.AUTOTUNE)\n",
        "validation_batches = val_ds.map(normalize_and_resize).batch(batch_size).prefetch(tf.data.experimental.AUTOTUNE)\n",
        "test_batches = test_ds.map(normalize_and_resize).batch(1)\n",
        "print(train_batches)"
      ]
    },
    {
      "cell_type": "code",
      "execution_count": 8,
      "metadata": {
        "colab": {
          "base_uri": "https://localhost:8080/"
        },
        "id": "8RKXF4rCgfaP",
        "outputId": "e05e30dc-d9c3-4fdc-e394-0aa87c089e0b"
      },
      "outputs": [
        {
          "name": "stdout",
          "output_type": "stream",
          "text": [
            "Model: \"model\"\n",
            "_________________________________________________________________\n",
            " Layer (type)                Output Shape              Param #   \n",
            "=================================================================\n",
            " input_1 (InputLayer)        [(None, 32, 32, 3)]       0         \n",
            "                                                                 \n",
            " block1_conv1 (Conv2D)       (None, 32, 32, 64)        1792      \n",
            "                                                                 \n",
            " block1_conv2 (Conv2D)       (None, 32, 32, 64)        36928     \n",
            "                                                                 \n",
            " block1_pool (MaxPooling2D)  (None, 16, 16, 64)        0         \n",
            "                                                                 \n",
            " block2_conv1 (Conv2D)       (None, 16, 16, 128)       73856     \n",
            "                                                                 \n",
            " block2_conv2 (Conv2D)       (None, 16, 16, 128)       147584    \n",
            "                                                                 \n",
            " block2_pool (MaxPooling2D)  (None, 8, 8, 128)         0         \n",
            "                                                                 \n",
            " block3_conv1 (Conv2D)       (None, 8, 8, 256)         295168    \n",
            "                                                                 \n",
            " block3_conv2 (Conv2D)       (None, 8, 8, 256)         590080    \n",
            "                                                                 \n",
            " block3_conv3 (Conv2D)       (None, 8, 8, 256)         590080    \n",
            "                                                                 \n",
            " block3_pool (MaxPooling2D)  (None, 4, 4, 256)         0         \n",
            "                                                                 \n",
            " block4_conv1 (Conv2D)       (None, 4, 4, 512)         1180160   \n",
            "                                                                 \n",
            " block4_conv2 (Conv2D)       (None, 4, 4, 512)         2359808   \n",
            "                                                                 \n",
            " block4_conv3 (Conv2D)       (None, 4, 4, 512)         2359808   \n",
            "                                                                 \n",
            " block4_pool (MaxPooling2D)  (None, 2, 2, 512)         0         \n",
            "                                                                 \n",
            " block5_conv1 (Conv2D)       (None, 2, 2, 512)         2359808   \n",
            "                                                                 \n",
            " block5_conv2 (Conv2D)       (None, 2, 2, 512)         2359808   \n",
            "                                                                 \n",
            " block5_conv3 (Conv2D)       (None, 2, 2, 512)         2359808   \n",
            "                                                                 \n",
            " block5_pool (MaxPooling2D)  (None, 1, 1, 512)         0         \n",
            "                                                                 \n",
            " global_average_pooling2d (G  (None, 512)              0         \n",
            " lobalAveragePooling2D)                                          \n",
            "                                                                 \n",
            " dense (Dense)               (None, 2)                 1026      \n",
            "                                                                 \n",
            "=================================================================\n",
            "Total params: 14,715,714\n",
            "Trainable params: 7,080,450\n",
            "Non-trainable params: 7,635,264\n",
            "_________________________________________________________________\n"
          ]
        }
      ],
      "source": [
        "def build_model():\n",
        "    base_model = tf.keras.applications.VGG16(input_shape= (32,32, 3),\n",
        "                                             weights='imagenet',\n",
        "                                             include_top=False)\n",
        "    \n",
        "    # add a GAP layer\n",
        "    output = tf.keras.layers.GlobalAveragePooling2D()(base_model.output)\n",
        " \n",
        "    # output has two neurons for the 2 classes(dogs and cats)\n",
        "    output = tf.keras.layers.Dense(2, activation='softmax')(output)\n",
        " \n",
        "    # set the inputs and outputs of the model\n",
        "    model = tf.keras.Model(base_model.input, output)\n",
        " \n",
        "    for layer in base_model.layers[:-4]:\n",
        "        layer.trainable = False\n",
        "    \n",
        "    model.compile(optimizer=tf.keras.optimizers.RMSprop(0.001),\n",
        "                  loss='sparse_categorical_crossentropy',\n",
        "                  metrics=['acc'])\n",
        "    model.summary()\n",
        " \n",
        "    return model\n",
        "    \n",
        "model = build_model()"
      ]
    },
    {
      "cell_type": "code",
      "execution_count": 9,
      "metadata": {
        "colab": {
          "base_uri": "https://localhost:8080/"
        },
        "id": "OWhepxthgjWk",
        "outputId": "6d59b87b-ef7d-4b25-deff-7c8969db916c"
      },
      "outputs": [
        {
          "name": "stdout",
          "output_type": "stream",
          "text": [
            "Epoch 1/10\n",
            "32/32 [==============================] - 9s 60ms/step - loss: 3.1798 - acc: 0.5480 - val_loss: 0.6740 - val_acc: 0.5857\n",
            "Epoch 2/10\n",
            "32/32 [==============================] - 2s 36ms/step - loss: 0.5820 - acc: 0.7150 - val_loss: 0.7936 - val_acc: 0.6474\n",
            "Epoch 3/10\n",
            "32/32 [==============================] - 2s 35ms/step - loss: 0.5078 - acc: 0.7770 - val_loss: 0.4106 - val_acc: 0.8267\n",
            "Epoch 4/10\n",
            "32/32 [==============================] - 2s 35ms/step - loss: 0.4511 - acc: 0.8200 - val_loss: 0.4539 - val_acc: 0.7888\n",
            "Epoch 5/10\n",
            "32/32 [==============================] - 2s 31ms/step - loss: 0.3931 - acc: 0.8250 - val_loss: 0.5262 - val_acc: 0.7410\n",
            "Epoch 6/10\n",
            "32/32 [==============================] - 3s 58ms/step - loss: 0.3140 - acc: 0.8650 - val_loss: 0.3644 - val_acc: 0.8386\n",
            "Epoch 7/10\n",
            "32/32 [==============================] - 2s 34ms/step - loss: 0.2654 - acc: 0.8970 - val_loss: 0.8980 - val_acc: 0.7131\n",
            "Epoch 8/10\n",
            "32/32 [==============================] - 2s 31ms/step - loss: 0.2851 - acc: 0.9070 - val_loss: 0.5263 - val_acc: 0.8386\n",
            "Epoch 9/10\n",
            "32/32 [==============================] - 2s 35ms/step - loss: 0.1875 - acc: 0.9320 - val_loss: 0.5318 - val_acc: 0.8526\n",
            "Epoch 10/10\n",
            "32/32 [==============================] - 3s 59ms/step - loss: 0.2193 - acc: 0.9260 - val_loss: 0.4631 - val_acc: 0.8486\n"
          ]
        },
        {
          "data": {
            "text/plain": [
              "<keras.callbacks.History at 0x7f776455bfa0>"
            ]
          },
          "execution_count": 9,
          "metadata": {},
          "output_type": "execute_result"
        }
      ],
      "source": [
        "EPOCHS = 10\n",
        "model.fit(train_batches, epochs=EPOCHS, validation_data=validation_batches)"
      ]
    },
    {
      "cell_type": "code",
      "execution_count": 10,
      "metadata": {
        "colab": {
          "base_uri": "https://localhost:8080/"
        },
        "id": "XE64oHbxu0GG",
        "outputId": "115f308b-c52f-4fc8-a97c-4b838518860d"
      },
      "outputs": [
        {
          "name": "stdout",
          "output_type": "stream",
          "text": [
            "Epoch 1/10\n",
            "32/32 [==============================] - 5s 99ms/step - loss: 0.1955 - acc: 0.9560 - val_loss: 0.8601 - val_acc: 0.7908\n",
            "Epoch 2/10\n",
            "32/32 [==============================] - 3s 62ms/step - loss: 0.0855 - acc: 0.9660 - val_loss: 0.7518 - val_acc: 0.8705\n",
            "Epoch 3/10\n",
            "32/32 [==============================] - 3s 49ms/step - loss: 0.0910 - acc: 0.9700 - val_loss: 0.5399 - val_acc: 0.8665\n",
            "Epoch 4/10\n",
            "32/32 [==============================] - 3s 56ms/step - loss: 0.1367 - acc: 0.9660 - val_loss: 0.4994 - val_acc: 0.8506\n",
            "Epoch 5/10\n",
            "32/32 [==============================] - 3s 63ms/step - loss: 0.0155 - acc: 0.9950 - val_loss: 1.0652 - val_acc: 0.8466\n",
            "Epoch 6/10\n",
            "32/32 [==============================] - 2s 36ms/step - loss: 1.9112e-04 - acc: 1.0000 - val_loss: 1.0218 - val_acc: 0.8625\n",
            "Epoch 7/10\n",
            "32/32 [==============================] - 2s 35ms/step - loss: 3.0941e-05 - acc: 1.0000 - val_loss: 1.1057 - val_acc: 0.8586\n",
            "Epoch 8/10\n",
            "32/32 [==============================] - 2s 32ms/step - loss: 1.2197e-05 - acc: 1.0000 - val_loss: 1.1562 - val_acc: 0.8665\n",
            "Epoch 9/10\n",
            "32/32 [==============================] - 2s 38ms/step - loss: 6.9563e-06 - acc: 1.0000 - val_loss: 1.1995 - val_acc: 0.8665\n",
            "Epoch 10/10\n",
            "32/32 [==============================] - 3s 59ms/step - loss: 4.6833e-06 - acc: 1.0000 - val_loss: 1.2304 - val_acc: 0.8665\n"
          ]
        },
        {
          "data": {
            "text/plain": [
              "<keras.callbacks.History at 0x7f776455b2b0>"
            ]
          },
          "execution_count": 10,
          "metadata": {},
          "output_type": "execute_result"
        }
      ],
      "source": [
        "EPOCHS = 10\n",
        "model.fit(train_batches, epochs=EPOCHS, validation_data=validation_batches)"
      ]
    },
    {
      "cell_type": "code",
      "execution_count": null,
      "metadata": {
        "id": "h4MQm_XzHp33"
      },
      "outputs": [],
      "source": []
    },
    {
      "cell_type": "code",
      "execution_count": 12,
      "metadata": {
        "colab": {
          "base_uri": "https://localhost:8080/"
        },
        "id": "mSbYZx24iozf",
        "outputId": "d77d72c1-c7a2-47cc-ad0a-1772698a0ad9"
      },
      "outputs": [
        {
          "name": "stdout",
          "output_type": "stream",
          "text": [
            "Model: \"model_2\"\n",
            "_________________________________________________________________\n",
            " Layer (type)                Output Shape              Param #   \n",
            "=================================================================\n",
            " input_1 (InputLayer)        [(None, 32, 32, 3)]       0         \n",
            "                                                                 \n",
            " block1_conv1 (Conv2D)       (None, 32, 32, 64)        1792      \n",
            "                                                                 \n",
            " block1_conv2 (Conv2D)       (None, 32, 32, 64)        36928     \n",
            "                                                                 \n",
            " block1_pool (MaxPooling2D)  (None, 16, 16, 64)        0         \n",
            "                                                                 \n",
            " block2_conv1 (Conv2D)       (None, 16, 16, 128)       73856     \n",
            "                                                                 \n",
            " block2_conv2 (Conv2D)       (None, 16, 16, 128)       147584    \n",
            "                                                                 \n",
            " block2_pool (MaxPooling2D)  (None, 8, 8, 128)         0         \n",
            "                                                                 \n",
            " block3_conv1 (Conv2D)       (None, 8, 8, 256)         295168    \n",
            "                                                                 \n",
            " block3_conv2 (Conv2D)       (None, 8, 8, 256)         590080    \n",
            "                                                                 \n",
            " block3_conv3 (Conv2D)       (None, 8, 8, 256)         590080    \n",
            "                                                                 \n",
            " block3_pool (MaxPooling2D)  (None, 4, 4, 256)         0         \n",
            "                                                                 \n",
            " block4_conv1 (Conv2D)       (None, 4, 4, 512)         1180160   \n",
            "                                                                 \n",
            " block4_conv2 (Conv2D)       (None, 4, 4, 512)         2359808   \n",
            "                                                                 \n",
            " block4_conv3 (Conv2D)       (None, 4, 4, 512)         2359808   \n",
            "                                                                 \n",
            " block4_pool (MaxPooling2D)  (None, 2, 2, 512)         0         \n",
            "                                                                 \n",
            " block5_conv1 (Conv2D)       (None, 2, 2, 512)         2359808   \n",
            "                                                                 \n",
            " block5_conv2 (Conv2D)       (None, 2, 2, 512)         2359808   \n",
            "                                                                 \n",
            " block5_conv3 (Conv2D)       (None, 2, 2, 512)         2359808   \n",
            "                                                                 \n",
            " block5_pool (MaxPooling2D)  (None, 1, 1, 512)         0         \n",
            "                                                                 \n",
            " global_average_pooling2d (G  (None, 512)              0         \n",
            " lobalAveragePooling2D)                                          \n",
            "                                                                 \n",
            " dense (Dense)               (None, 2)                 1026      \n",
            "                                                                 \n",
            "=================================================================\n",
            "Total params: 14,715,714\n",
            "Trainable params: 7,080,450\n",
            "Non-trainable params: 7,635,264\n",
            "_________________________________________________________________\n"
          ]
        }
      ],
      "source": [
        "cam_model = tf.keras.Model(model.input, outputs=(model.layers[-3].output, model.layers[-1].output))\n",
        "cam_model.summary()"
      ]
    },
    {
      "cell_type": "code",
      "execution_count": 13,
      "metadata": {
        "colab": {
          "base_uri": "https://localhost:8080/"
        },
        "id": "aiSBmt5ylbKq",
        "outputId": "fb9bcde8-eb2d-4bf3-8bc2-56b12578e69a"
      },
      "outputs": [
        {
          "data": {
            "text/plain": [
              "(512, 2)"
            ]
          },
          "execution_count": 13,
          "metadata": {},
          "output_type": "execute_result"
        }
      ],
      "source": [
        "gap_weights = model.layers[-1].get_weights()[0]\n",
        "gap_weights.shape"
      ]
    },
    {
      "cell_type": "code",
      "execution_count": 17,
      "metadata": {
        "id": "FvpOdxRwlerr"
      },
      "outputs": [],
      "source": [
        "def show_cam(image_value, features, results, label):\n",
        "    '''\n",
        "    Displays the class activation map of an image\n",
        " \n",
        "    Args:\n",
        "        image_value (tensor) -- preprocessed input image with size 224 x 224\n",
        "        features (array) -- features of the image, shape (1, 7, 7, 512)\n",
        "        results (array) -- output of the sigmoid layer\n",
        "    '''\n",
        "    features_for_img = features[0]\n",
        "    prediction = results[0]\n",
        " \n",
        "    class_activation_weigths = gap_weights[:,label]\n",
        "    class_activation_features = sp.ndimage.zoom(features_for_img, (32/7, 32/7, 1), order=2)\n",
        "    cam_output = np.dot(class_activation_features, class_activation_weigths)\n",
        "    cam_output = tf.reshape(cam_output, (224,224 ))\n",
        " \n",
        "    # visualize the results\n",
        "    print(f'sigmoid output: {results}')\n",
        "    print(f\"prediction: {'real' if tf.argmax(results[0]) else 'fake'}\")\n",
        "    plt.figure(figsize=(8,8))\n",
        "    plt.imshow(cam_output, cmap='jet', alpha=0.5)\n",
        "    plt.imshow(tf.squeeze(image_value), alpha=0.5)\n",
        "    plt.show()"
      ]
    },
    {
      "cell_type": "code",
      "execution_count": 18,
      "metadata": {
        "id": "tWdh1NwQloCI"
      },
      "outputs": [],
      "source": [
        "# preprocess the test images\n",
        "augmented_test_data = val_ds.map(normalize_and_resize)\n",
        "test_batches = augmented_test_data.batch(1)"
      ]
    },
    {
      "cell_type": "code",
      "execution_count": null,
      "metadata": {
        "id": "71YK10DO7499"
      },
      "outputs": [],
      "source": [
        "for img, lbl in test_batches.take(10):\n",
        "    print(f\"ground truth: {'real' if lbl else 'fake'}\")\n",
        "    features,results = cam_model.predict(img)\n",
        "    show_cam(img, features, results, lbl)\n"
      ]
    }
  ],
  "metadata": {
    "accelerator": "GPU",
    "colab": {
      "gpuType": "T4",
      "provenance": []
    },
    "gpuClass": "standard",
    "kernelspec": {
      "display_name": "Python 3",
      "name": "python3"
    },
    "language_info": {
      "name": "python"
    }
  },
  "nbformat": 4,
  "nbformat_minor": 0
}
